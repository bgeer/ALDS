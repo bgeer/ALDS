{
 "cells": [
  {
   "cell_type": "markdown",
   "metadata": {},
   "source": [
    "# ALDS Tutorial 2: Containers, zoeken, sorteren\n",
    "\n",
    "Ja!!! Welkom terug! Ik hoop dat jullie week 1 goed door zijn gekomen en weer zin hebben in week 2! \n",
    "\n",
    "Laten we eerst weer eens even beginnen met het doen van de nodige imports: "
   ]
  },
  {
   "cell_type": "code",
   "execution_count": 20,
   "metadata": {},
   "outputs": [
    {
     "name": "stdout",
     "output_type": "stream",
     "text": [
      "Python version is (3, 6, 9, 'final', 0) -> okay\n",
      "IPython version is (7, 16, 1, '') -> okay\n"
     ]
    }
   ],
   "source": [
    "import sys\n",
    "assert sys.version_info.major == 3, \"You need python 3.\" #Asserts zijn handig: ingebouwde unit-testjes in Python\n",
    "print(\"Python version is {} -> okay\".format(sys.version_info[0:30]))\n",
    "\n",
    "import IPython\n",
    "assert IPython.version_info[0] >= 7, \"You need IPython >= 7\"\n",
    "print(\"IPython version is {} -> okay\".format(IPython.version_info))\n",
    "\n",
    "from matplotlib import pyplot as plt\n",
    "import numpy as np\n",
    "import time\n",
    "import statistics as stats"
   ]
  },
  {
   "cell_type": "markdown",
   "metadata": {},
   "source": [
    "Deze tutorial gaat weer gebruik maken van numpy arrays (np.array). Dit is een ontzettend fijn datatype dat erg geoptimaliseerd is (zowel qua memory, als runtime voor allerhande standaardfuncties). Bovendien is er gebruik van numpy arrays enorm flexibel. Deze datastructuur is dusdanig veel gebruikt en heeft zoveel impact gehad dat er een Nature-artikel (dat is één van de belangrijkste wetenschappelijke tijdschriften) over is verschenen: https://www.nature.com/articles/s41586-020-2649-2 (Zeker de moeite waard om eens te lezen). \n",
    "\n",
    "Qua tips voor het gebruik van numpy arrays raad ik de volgende youtube tutorial aan: https://www.youtube.com/watch?v=8Mpc9ukltVA\n",
    "\n",
    "Wij gaan nu een aantal opdrachten doen waarbij we gebruik gaan maken van deze numpy arrays om datastructuren te maken op kop van een array. (Deze gebruik ik liever dan de Python list, omdat numpy arrays zoals gezegd echte arrays zijn.) "
   ]
  },
  {
   "cell_type": "markdown",
   "metadata": {},
   "source": [
    "## Opgave 1: een eigen Stack (een plek op silicoon)\n",
    "\n",
    "Schrijf een eigen Stack-klasse op basis van een numpy array, waar alleen integers in mogen. Je mag zelf kiezen welk soort integers want in numpy mag je kiezen hoe groot de ints mogen zijn en of ze signed of unsigned moeten zijn. Je kan hiervoor dtype gebruiken bij het aanmaken van de array, bijvoorbeeld: dtype='int16' levert 16bit signed integers op. \n",
    "\n",
    "De Stack heeft een fixed capacity (de grootte van de array). Implementeer een klasse MyStack, waar in ieder geval de volgende functies in verwerkt zijn. Zet bij elke functie van de klasse een runtime-complexity analyse (dus de complexiteit middels de big-Oh notatie, en een korte uitleg daarvan). \n",
    "* push(int) (Zet een item op \"kop\" van de lijst - je mag zelf kiezen hoe de Stack groeit, return een boolean die zegt of het pushen gelukt it. Pushen lukt namelijk niet als de maximale capaciteit bereikt is.)\n",
    "* pop() (Return en verwijder het element dat nu op kop van de Stack staat) \n",
    "* peek() (Return het element op kop van de Stack, maar verwijder hem niet) \n",
    "* isEmpty() (Return of de Stack nu leeg is, d.w.z., er nu geen elementen in staan)\n",
    "* isFull() (Return of the maxCapacity bereikt is)\n",
    "\n",
    "Daarna willen we graag de capaciteit kunnen vergroten. Voeg een functie toe \n",
    "* doubleCapacity() (Verdubbel de capaciteit van de Stack. Zorg ervoor dat de volgorde van de elementen op de Stack in tact blijft.) Wat is de runtime complexity (big-Oh) van deze functie? Leg dit uit in het commentaar.\n",
    "\n",
    "Bedenk goede unit tests om de werking van de Stack te testen. Gebruik hiervoor het Python-commando \"assert\" (voor een voorbeeld, zie vorige tutorial). "
   ]
  },
  {
   "cell_type": "code",
   "execution_count": 46,
   "metadata": {},
   "outputs": [
    {
     "ename": "TypeError",
     "evalue": "'list' object is not callable",
     "output_type": "error",
     "traceback": [
      "\u001b[0;31m---------------------------------------------------------------------------\u001b[0m",
      "\u001b[0;31mTypeError\u001b[0m                                 Traceback (most recent call last)",
      "\u001b[0;32m<ipython-input-46-b0793bf08ac6>\u001b[0m in \u001b[0;36m<module>\u001b[0;34m\u001b[0m\n\u001b[1;32m     43\u001b[0m         \u001b[0mself\u001b[0m\u001b[0;34m.\u001b[0m\u001b[0mmaxCapicity\u001b[0m \u001b[0;34m*=\u001b[0m \u001b[0;36m2\u001b[0m\u001b[0;34m\u001b[0m\u001b[0;34m\u001b[0m\u001b[0m\n\u001b[1;32m     44\u001b[0m \u001b[0;34m\u001b[0m\u001b[0m\n\u001b[0;32m---> 45\u001b[0;31m \u001b[0mstack\u001b[0m \u001b[0;34m=\u001b[0m \u001b[0mmyStack\u001b[0m\u001b[0;34m(\u001b[0m\u001b[0;36m1\u001b[0m\u001b[0;34m,\u001b[0m \u001b[0;34m'uint8'\u001b[0m\u001b[0;34m)\u001b[0m\u001b[0;34m\u001b[0m\u001b[0;34m\u001b[0m\u001b[0m\n\u001b[0m\u001b[1;32m     46\u001b[0m \u001b[0mprint\u001b[0m\u001b[0;34m(\u001b[0m\u001b[0mstack\u001b[0m\u001b[0;34m.\u001b[0m\u001b[0misEmpty\u001b[0m\u001b[0;34m(\u001b[0m\u001b[0;34m)\u001b[0m\u001b[0;34m)\u001b[0m\u001b[0;34m\u001b[0m\u001b[0;34m\u001b[0m\u001b[0m\n\u001b[1;32m     47\u001b[0m \u001b[0mprint\u001b[0m\u001b[0;34m(\u001b[0m\u001b[0mstack\u001b[0m\u001b[0;34m.\u001b[0m\u001b[0misFull\u001b[0m\u001b[0;34m(\u001b[0m\u001b[0;34m)\u001b[0m\u001b[0;34m)\u001b[0m\u001b[0;34m\u001b[0m\u001b[0;34m\u001b[0m\u001b[0m\n",
      "\u001b[0;32m<ipython-input-46-b0793bf08ac6>\u001b[0m in \u001b[0;36m__init__\u001b[0;34m(self, maxCapicity, t)\u001b[0m\n\u001b[1;32m      5\u001b[0m         \u001b[0mself\u001b[0m\u001b[0;34m.\u001b[0m\u001b[0mcurrentCapicity\u001b[0m \u001b[0;34m=\u001b[0m \u001b[0;36m0\u001b[0m\u001b[0;34m\u001b[0m\u001b[0;34m\u001b[0m\u001b[0m\n\u001b[1;32m      6\u001b[0m         \u001b[0mself\u001b[0m\u001b[0;34m.\u001b[0m\u001b[0mtype\u001b[0m \u001b[0;34m=\u001b[0m \u001b[0mt\u001b[0m\u001b[0;34m\u001b[0m\u001b[0;34m\u001b[0m\u001b[0m\n\u001b[0;32m----> 7\u001b[0;31m         \u001b[0mself\u001b[0m\u001b[0;34m.\u001b[0m\u001b[0marray\u001b[0m \u001b[0;34m=\u001b[0m \u001b[0mnp\u001b[0m\u001b[0;34m.\u001b[0m\u001b[0marray\u001b[0m\u001b[0;34m(\u001b[0m\u001b[0;34m[\u001b[0m\u001b[0;34m]\u001b[0m\u001b[0;34m,\u001b[0m \u001b[0mdtype\u001b[0m\u001b[0;34m=\u001b[0m\u001b[0mself\u001b[0m\u001b[0;34m.\u001b[0m\u001b[0mtype\u001b[0m\u001b[0;34m)\u001b[0m\u001b[0;34m\u001b[0m\u001b[0;34m\u001b[0m\u001b[0m\n\u001b[0m\u001b[1;32m      8\u001b[0m \u001b[0;34m\u001b[0m\u001b[0m\n\u001b[1;32m      9\u001b[0m \u001b[0;34m\u001b[0m\u001b[0m\n",
      "\u001b[0;31mTypeError\u001b[0m: 'list' object is not callable"
     ]
    }
   ],
   "source": [
    "class myStack():\n",
    "\n",
    "    def __init__(self, maxCapicity, t):\n",
    "        self.maxCapicity = maxCapicity\n",
    "        self.currentCapicity = 0\n",
    "        self.type = t\n",
    "        self.array = np.array([], dtype=self.type)\n",
    "        \n",
    "\n",
    "    def push(self, item):\n",
    "        if self.currentCapicity != self.maxCapicity:\n",
    "            self.array = np.append(self.array, np.array(item, dtype=self.type)) #need to add this way else the dtype would be changed by default.\n",
    "            self.currentCapicity += 1\n",
    "            print(self.array)\n",
    "            print(self.currentCapicity)\n",
    "            return True\n",
    "        else:\n",
    "            print(\"Stack reached max capicity\")\n",
    "            return False\n",
    "\n",
    "    def pop(self):\n",
    "        if self.currentCapicity != 0:\n",
    "            self.array = np.delete(self.array, -1)\n",
    "            self.currentCapicity -= 1\n",
    "            return True\n",
    "        else:\n",
    "            print(\"Trying to pop empty stack...\")\n",
    "            return False\n",
    "\n",
    "    def isEmpty(self):\n",
    "        if self.currentCapicity == 0:\n",
    "            return True\n",
    "        else:\n",
    "            return False\n",
    "\n",
    "    def isFull(self):\n",
    "        if self.currentCapicity == self.maxCapicity:\n",
    "            return True\n",
    "        else:\n",
    "            return False\n",
    "\n",
    "    def doubleCapicity(self):\n",
    "        self.maxCapicity *= 2\n",
    "\n",
    "stack = myStack(1, 'uint8')\n",
    "print(stack.isEmpty())\n",
    "print(stack.isFull())\n",
    "stack.pop()\n",
    "print(stack.isEmpty())\n",
    "stack.pop()"
   ]
  },
  {
   "cell_type": "markdown",
   "metadata": {},
   "source": [
    "## Opgave 2: Quick-sort en meer Quick-sort\n",
    "\n",
    "De runtime van Quick-sort is erg afhankelijk van de keuze van de pivot. We gaan in deze opgave hiervoor verschillende alternatieven bekijken en vergelijken om te zien wat daar het effect van is; zowel theoretisch (in termen van de big-Oh) als in de praktijk (door runtime te meten). \n",
    "\n",
    "* Schrijf een functie voor het sorteren van een numpy array met Quicksort. (Zie Algoritmes 16 en 17 van hoofdstuk 7.3 in de reader)\n",
    "* Pas de functie zo aan dat het aantal keer dat twee waardes vergeleken worden ook wordt gereturnt (naast de gesorteerde lijst). (NB: in Python kan je meerdere dingen tegelijk teruggeven bij een functie.) \n",
    "* Schrijf een test-functie, waarbij de gemiddelde waarde van het (bovenstaande) aantal vergelijkingen wordt geschat, door het algoritme X keer voor verschillende random lijsten van lengte L te runnen. Geef naast dit gemiddelde ook de standaardafwijking (standard deviation) terug.  \n",
    "* Schrijf nu een tweede versie van quick-sort, maar nu zo dat de pivot anders wordt gekozen. Namelijk, neem de minimale waarde van tussen (en inclusief) $lo$ en $hi$ (in de array $a$) als de pivot. Geef wederom het aantal vergelijkingen terug. \n",
    "* Vergelijk de twee versies van quicksort voor verschillende groottes van arrays, en plot de resultaten middels matplotlib.pyplot (zoals we ook in de vorige tutorial hadden gedaan), vergeet niet de standaardafwijking mee te plotten als een error region. \n",
    "* Wat valt je op in de resultaten? Was dit wat je verwachtte? Verklaar je antwoord met een verwijzing naar de time complexity (big-Oh) van QuickSort. \n",
    "* Laten we nog eens iets anders proberen voor de pivot. Schrijf nog een alternatieve versie van quicksort die op regel 1 in plaats van een random pivot of de minimumwaarde, nu de **mediaan** van de elementen tussen $lo$ and $hi$ (uit $a$) pakt. Voor de mediaan pakken we de middelste waarde. Bijvoorbeeld, de mediaan van {1, 7, 3, 8, 3, 9, 6} is 6. In Python 3 is dit geïmplementeerd met de standaardfunctie **median()** in de **statistics** module. \n",
    "* Vergelijk deze nieuwe versie door middel van je testfunctie voor verschillende groottes van inputlijsten, en voeg de resultaten toe aan je plot. \n",
    "* Schrijf nu een nieuwe testfunctie die de resultaten in termen van runtime vergelijkt in plaats van het aantal vergelijkingen, en plot de resultaten voor de drie alternatieve quick-sorts. \n",
    "* Licht de resultaten toe, en verklaar de verschillen?\n",
    "* Wat het een goed idee om de mediaan te pakken als pivot? Waarom wel/niet? (Gebruik de time complexity in termen van big-Oh om hier antwoord op te geven.) "
   ]
  },
  {
   "cell_type": "code",
   "execution_count": null,
   "metadata": {},
   "outputs": [],
   "source": [
    "# Schrijf hier de code voor opgave 2"
   ]
  },
  {
   "cell_type": "markdown",
   "metadata": {},
   "source": [
    "*beantwoordt hier de vragen van opgave 2*"
   ]
  },
  {
   "cell_type": "markdown",
   "metadata": {},
   "source": [
    "## Opgave 3: Priority Queue (waarin we zelf een datastructuur gaan kiezen om een andere datastructuur bovenop te bouwen)\n",
    "\n",
    "**NB: voor deze opgave heb je een partner nodig. (Nee, geen romantische partner, een practicumpartner die ook deze cursus volgt.) Neem contact op met het groepje waarin je bent ingedeeld voor de besprekingsmomenten, en bespreek vooraf de keuzes voor deze opgave (qua datastructuur). Het is van belang dat niet iedereen dezelfde datastructuur pakt namelijk, anders valt er weinig te vergelijken. *Als je niet bent ingedeeld, of je je groepsgenoten reageren niet, neem dan zsm even contactop met Marius of Diederik, dan zoeken we naar een oplossing.*  **\n",
    "\n",
    "PriorityQueues zijn een datastructuur met de volgende eigenschappen: \n",
    "* Het is een wachtrij, waarbij elk element een *prioriteit* toegekend krijgt. Deze prioriteit is meestal een integer, (maar soms kan het ook een float zijn). \n",
    "* Bij gelijke *prioriteit* (dus bijvoorbeeld, alle elementen in de rij hebben prioriteit *1*) gedraagt een priority queue zich net zoals een queue; first in first out (FIFO)\n",
    "* Echter, als er een element met een hogere prioriteit wordt toegevoegd gaat deze eerst. \n",
    "\n",
    "Priority Queues worden veel gebruikt bij dingen als task-scheduling binnen applicaties, het OS, of de cloud (https://www.researchgate.net/publication/257726215_A_Priority_Based_Job_Scheduling_Algorithm_in_Cloud_Computing), wachtrijen voor verzenden (telefoongespreken zijn belangrijker dan e-mails want ze moeten real-time) (https://patentimages.storage.googleapis.com/72/1a/c2/7cd0205566e125/US7310670.pdf), maar ook bijvoorbeeld binnen zelf-lerende systemen door te kijken naar welke \"ervaringen\" de meeste leeropbrengst zouden opleveren (en die dan eerst verwerken) zodat het systeem sneller leert (https://link.springer.com/content/pdf/10.1007/BF00993104.pdf). \n",
    "\n",
    "In deze opgave gaan we kijken naar hoe we een priority kunnen bouwen, bovenop eenvoudigere datastructuren. De datastructuur onliggend aan een PriorityQueue zouden we namelijk wel eens anders moeten kunnen willen kiezen dan een gewone queue: het inserten van nieuwe elementen (die nu midden in de queue zouden kunnen komen) is namelijk een stuk lastiger (we zouden makkelijk elementen moeten kunnen toevoegen in het midden van de priority queue).\n",
    "\n",
    "Enkele tips hierbij: kijk alvast eens naar recursieve datastructuren (volgend college) zoals de doubly linked list. Of verzin zelf een slimme list om priorities er goed in te krijgen. (Je zou bijvoorbeeld voordeel kunnen hebben als je van te voren al weet dat er bijvoorbeeld tien mogelijke prioriteiten zijn - als je zo'n aanname wilt maken, geef dit dan duidelijk aan in het commentaar.) Als je helemaal los wilt gaan, kijk dan eens naar de heap datastructuur (ook wel een heap-boom, https://en.wikipedia.org/wiki/Heap_(data_structure) , NB: dit is niet hetzelfde als de \"heap\" als rereserveerde geheugenruimte op een chip; daar wordt ongelukkigerwijs helaas dezelfde naam voor gebruikt, maar is iets compleet anders.)\n",
    "\n",
    "* Onderzoek samen met je practicumpartner mogelijke keuzes voor de onderliggende datastructuur voor een priority queue, en spreek af wie welke gaat doen. (Twee verschillenden)\n",
    "* Leg voor de keuze die jij zelf gaat implementeren waarom jullie deze gekozen hebben. \n",
    "* Implementeer de priority queue met de gekozen datastructuur, en daarbij de volgende functies: \n",
    "    * **queue(v, p)** adds value $v$ with priority $p$ to the queue.\n",
    "    * **dequeue()** returns the value with the highest priority and removes the element from the queue.\n",
    "    * **contains(v)** returns \\textit{True} if and only if the queue contains value $v$.\n",
    "    * **remove(e)** removes all elements with value $v$ from the queue.\n",
    "* Analyseer de time complexity van deze priority queue functies zoals je ze hebt geïmplementeerd. Zet je analyse in het commentaar bij de code (zowel de argumentatie als het big-Oh resultaat).\n",
    "* Schrijf een testfunctie voor alle bovenstaande functies om de runtime te meten bij het inserten (queue) van X random waardes met random prioriteiten, het dequeuen van al deze X waarden, het vinden (contains) van Y random waarden (uiteraard kleiner dan X, en te testen vóór alles gedequeued is), en het removen van Z waarden (wederom kleiner dan X en het best los te testen onafhankelijk van de andere functies). \n",
    "* Neem nu de implementatie over van je practicumpartner in een aparte cell, en maak daaronder een runtimevergelijking voor alle vier de functies. Plot de resultaten met matplotlib.pyplot, met zowel de gemiddelden als de standaardafwijken (als error regions), zoals we gewend zijn van de eerste tutorial. \n",
    "* Welke verschillen zie je in de plotjes? Kan je dit verklaren? Zijn er bijvoorbeeld verschillen qua time complexity?\n"
   ]
  },
  {
   "cell_type": "markdown",
   "metadata": {},
   "source": [
    "Ik heb gekozen voor een list structuur omdat dit in mijn ogen de beste manier was en omdat ik hier persoonlijk al mee bekend was. Daarnaast is het makkelijk om 2D list te maken en op basis daarvan een priority er in te verwerken. Als andere implementatie heb ik van ons groepje eentje gekozen om te vergelijken. Deze is met een dict gemaakt."
   ]
  },
  {
   "cell_type": "code",
   "execution_count": 14,
   "metadata": {},
   "outputs": [
    {
     "name": "stdout",
     "output_type": "stream",
     "text": [
      "Testing priorityQeue 1 based on a list\n",
      "1\n",
      "[[4, 1], [7, 2], [7, 4]]\n",
      "True\n",
      "False\n",
      "[[4, 1]]\n",
      "End of testing priorityQeue 1 based on a list\n"
     ]
    }
   ],
   "source": [
    "class priorityQueue:\n",
    "    def __init__(self):\n",
    "        self.queue = []\n",
    "\n",
    "    def Queue( self, data, priority ):\n",
    "        self.queue.append([data,priority])\n",
    "\n",
    "    def Dequeue(self):\n",
    "        maximum = [0,0]\n",
    "        for i in range(len(self.queue)):\n",
    "            if maximum[1] < self.queue[i][1]:\n",
    "                maximum = self.queue[i]\n",
    "        self.queue.remove(maximum)\n",
    "        return maximum[0]\n",
    "\n",
    "    def Contains(self, data):\n",
    "        for i in range(len(self.queue)):\n",
    "            if data == self.queue[i][0]:\n",
    "                return True\n",
    "        return False\n",
    "\n",
    "    def Remove(self, data):\n",
    "        memo =[]\n",
    "        for i in range(len(self.queue)):\n",
    "            if data == self.queue[i][0]:\n",
    "                memo.append(self.queue[i])\n",
    "        for j in range(len(memo)):\n",
    "            self.queue.remove(memo[j])\n",
    "\n",
    "    def see(self):\n",
    "        print(self.queue)\n",
    "        \n",
    "\n",
    "def testPriorityQueue1():\n",
    "    print(\"Testing priorityQeue 1 based on a list\")           \n",
    "    a = priorityQueue()\n",
    "\n",
    "    a.Queue(1, 6)\n",
    "    a.Queue(4, 1)\n",
    "    a.Queue(7, 2)\n",
    "    a.Queue(7, 4)\n",
    "    print(a.Dequeue())\n",
    "    a.see()\n",
    "    print(a.Contains(4))\n",
    "    print(a.Contains(3))\n",
    "    a.Remove(7)\n",
    "    a.Remove(8)\n",
    "    a.see()\n",
    "    print(\"End of testing priorityQeue 1 based on a list\")\n",
    "\n",
    "testPriorityQueue1()"
   ]
  },
  {
   "cell_type": "code",
   "execution_count": 15,
   "metadata": {},
   "outputs": [
    {
     "name": "stdout",
     "output_type": "stream",
     "text": [
      "Testing priorityQeue 2 based on a dictonary\n",
      "{6: [1], 1: [4], 2: [7], 4: [7]}\n",
      "1\n",
      "{6: [], 1: [4], 2: [7], 4: [7]}\n",
      "True\n",
      "False\n",
      "{6: [], 1: [4], 2: [], 4: []}\n",
      "End of testing priorityQeue 2 based on a dict\n"
     ]
    }
   ],
   "source": [
    "class priorityQueue2:\n",
    "    def __init__(self):\n",
    "        self.dict = {}\n",
    "    \n",
    "    def queue( self, data, priority ):\n",
    "        if priority in self.dict:\n",
    "            self.dict[priority].append(data)\n",
    "        else:\n",
    "            self.dict[priority] = [data]\n",
    "            \n",
    "    def dequeue(self):\n",
    "        highest_priority = max(self.dict)\n",
    "        return self.dict[highest_priority].pop(0)\n",
    "    \n",
    "    def contains(self, data):\n",
    "        for l in self.dict.values():\n",
    "            if data in l:\n",
    "                return True\n",
    "        else:\n",
    "            return False\n",
    "    \n",
    "    def remove(self, data):\n",
    "        for l in self.dict.values():\n",
    "            if data in l:\n",
    "                l.remove(data)\n",
    "        \n",
    "        \n",
    "    \n",
    "    def __repr__(self):\n",
    "        return str(self.dict)\n",
    "    \n",
    "def testPriorityQueue2():\n",
    "    print(\"Testing priorityQeue 2 based on a dictonary\")           \n",
    "    a = priorityQueue2()\n",
    "\n",
    "    a.queue(1, 6)\n",
    "    a.queue(4, 1)\n",
    "    a.queue(7, 2)\n",
    "    a.queue(7, 4)\n",
    "    print(a)\n",
    "    print(a.dequeue())\n",
    "    print(a)\n",
    "    print(a.contains(4))\n",
    "    print(a.contains(3))\n",
    "    a.remove(7)\n",
    "    a.remove(8)\n",
    "    print(a)\n",
    "    print(\"End of testing priorityQeue 2 based on a dict\")\n",
    "    \n",
    "testPriorityQueue2()"
   ]
  },
  {
   "cell_type": "code",
   "execution_count": null,
   "metadata": {},
   "outputs": [],
   "source": [
    "#schrijf hier de experimentele vergelijking van jullie vier methodes, en de code om de plotjes te maken"
   ]
  },
  {
   "cell_type": "markdown",
   "metadata": {},
   "source": [
    "*verklaar hier de verschillen in runtime tussen de twee implementaties (met verschillende onderliggende datastructuur)*"
   ]
  }
 ],
 "metadata": {
  "kernelspec": {
   "display_name": "Python 3",
   "language": "python",
   "name": "python3"
  },
  "language_info": {
   "codemirror_mode": {
    "name": "ipython",
    "version": 3
   },
   "file_extension": ".py",
   "mimetype": "text/x-python",
   "name": "python",
   "nbconvert_exporter": "python",
   "pygments_lexer": "ipython3",
   "version": "3.6.9"
  }
 },
 "nbformat": 4,
 "nbformat_minor": 4
}
